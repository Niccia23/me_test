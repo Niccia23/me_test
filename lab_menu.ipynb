{
 "cells": [
  {
   "cell_type": "markdown",
   "id": "c020896b",
   "metadata": {},
   "source": [
    "# My notebook"
   ]
  },
  {
   "cell_type": "code",
   "execution_count": 1,
   "id": "dbe6ee2a",
   "metadata": {},
   "outputs": [],
   "source": [
    "import pandas as pd\n",
    "import json\n",
    "from tqdm.notebook import tqdm\n",
    "tqdm.pandas()"
   ]
  },
  {
   "cell_type": "code",
   "execution_count": 18,
   "id": "439eff40",
   "metadata": {},
   "outputs": [],
   "source": [
    "with open(\"msample.json\", \"r\") as f:\n",
    "  items = [json.loads(line) for line in f]\n",
    "  df = pd.DataFrame({\n",
    "      \"id\": [x[\"_source\"][\"id\"] for x in items],\n",
    "      \"name\": [x[\"_source\"][\"name\"] for x in items],\n",
    "      \"entype\": [x[\"_source\"][\"entype\"] for x in items],\n",
    "  })\n",
    "\n",
    "#print(df.head())"
   ]
  },
  {
   "cell_type": "code",
   "execution_count": 17,
   "id": "79177c82",
   "metadata": {},
   "outputs": [],
   "source": [
    "#df[\"entype\"].value_counts()"
   ]
  },
  {
   "cell_type": "code",
   "execution_count": 4,
   "id": "7fdffbd4",
   "metadata": {},
   "outputs": [
    {
     "name": "stdout",
     "output_type": "stream",
     "text": [
      "Requirement already satisfied: sentence-transformers in /Users/nicolo/.pyenv/versions/3.8.16/lib/python3.8/site-packages (2.2.2)\n",
      "Requirement already satisfied: transformers<5.0.0,>=4.6.0 in /Users/nicolo/.pyenv/versions/3.8.16/lib/python3.8/site-packages (from sentence-transformers) (4.28.0.dev0)\n",
      "Requirement already satisfied: tqdm in /Users/nicolo/.pyenv/versions/3.8.16/lib/python3.8/site-packages (from sentence-transformers) (4.64.1)\n",
      "Requirement already satisfied: torch>=1.6.0 in /Users/nicolo/.pyenv/versions/3.8.16/lib/python3.8/site-packages (from sentence-transformers) (1.13.1)\n",
      "Requirement already satisfied: torchvision in /Users/nicolo/.pyenv/versions/3.8.16/lib/python3.8/site-packages (from sentence-transformers) (0.14.1)\n",
      "Requirement already satisfied: numpy in /Users/nicolo/.pyenv/versions/3.8.16/lib/python3.8/site-packages (from sentence-transformers) (1.24.2)\n",
      "Requirement already satisfied: scikit-learn in /Users/nicolo/.pyenv/versions/3.8.16/lib/python3.8/site-packages (from sentence-transformers) (1.2.1)\n",
      "Requirement already satisfied: scipy in /Users/nicolo/.pyenv/versions/3.8.16/lib/python3.8/site-packages (from sentence-transformers) (1.10.0)\n",
      "Requirement already satisfied: nltk in /Users/nicolo/.pyenv/versions/3.8.16/lib/python3.8/site-packages (from sentence-transformers) (3.8.1)\n",
      "Requirement already satisfied: sentencepiece in /Users/nicolo/.pyenv/versions/3.8.16/lib/python3.8/site-packages (from sentence-transformers) (0.1.97)\n",
      "Requirement already satisfied: huggingface-hub>=0.4.0 in /Users/nicolo/.pyenv/versions/3.8.16/lib/python3.8/site-packages (from sentence-transformers) (0.12.0)\n",
      "Requirement already satisfied: requests in /Users/nicolo/.pyenv/versions/3.8.16/lib/python3.8/site-packages (from huggingface-hub>=0.4.0->sentence-transformers) (2.28.2)\n",
      "Requirement already satisfied: filelock in /Users/nicolo/.pyenv/versions/3.8.16/lib/python3.8/site-packages (from huggingface-hub>=0.4.0->sentence-transformers) (3.9.0)\n",
      "Requirement already satisfied: typing-extensions>=3.7.4.3 in /Users/nicolo/.pyenv/versions/3.8.16/lib/python3.8/site-packages (from huggingface-hub>=0.4.0->sentence-transformers) (4.4.0)\n",
      "Requirement already satisfied: pyyaml>=5.1 in /Users/nicolo/.pyenv/versions/3.8.16/lib/python3.8/site-packages (from huggingface-hub>=0.4.0->sentence-transformers) (6.0)\n",
      "Requirement already satisfied: packaging>=20.9 in /Users/nicolo/.pyenv/versions/3.8.16/lib/python3.8/site-packages (from huggingface-hub>=0.4.0->sentence-transformers) (23.0)\n",
      "Requirement already satisfied: tokenizers!=0.11.3,<0.14,>=0.11.1 in /Users/nicolo/.pyenv/versions/3.8.16/lib/python3.8/site-packages (from transformers<5.0.0,>=4.6.0->sentence-transformers) (0.13.2)\n",
      "Requirement already satisfied: regex!=2019.12.17 in /Users/nicolo/.pyenv/versions/3.8.16/lib/python3.8/site-packages (from transformers<5.0.0,>=4.6.0->sentence-transformers) (2022.10.31)\n",
      "Requirement already satisfied: joblib in /Users/nicolo/.pyenv/versions/3.8.16/lib/python3.8/site-packages (from nltk->sentence-transformers) (1.2.0)\n",
      "Requirement already satisfied: click in /Users/nicolo/.pyenv/versions/3.8.16/lib/python3.8/site-packages (from nltk->sentence-transformers) (8.1.3)\n",
      "Requirement already satisfied: threadpoolctl>=2.0.0 in /Users/nicolo/.pyenv/versions/3.8.16/lib/python3.8/site-packages (from scikit-learn->sentence-transformers) (3.1.0)\n",
      "Requirement already satisfied: pillow!=8.3.*,>=5.3.0 in /Users/nicolo/.pyenv/versions/3.8.16/lib/python3.8/site-packages (from torchvision->sentence-transformers) (9.4.0)\n",
      "Requirement already satisfied: certifi>=2017.4.17 in /Users/nicolo/.pyenv/versions/3.8.16/lib/python3.8/site-packages (from requests->huggingface-hub>=0.4.0->sentence-transformers) (2022.12.7)\n",
      "Requirement already satisfied: idna<4,>=2.5 in /Users/nicolo/.pyenv/versions/3.8.16/lib/python3.8/site-packages (from requests->huggingface-hub>=0.4.0->sentence-transformers) (3.4)\n",
      "Requirement already satisfied: urllib3<1.27,>=1.21.1 in /Users/nicolo/.pyenv/versions/3.8.16/lib/python3.8/site-packages (from requests->huggingface-hub>=0.4.0->sentence-transformers) (1.26.14)\n",
      "Requirement already satisfied: charset-normalizer<4,>=2 in /Users/nicolo/.pyenv/versions/3.8.16/lib/python3.8/site-packages (from requests->huggingface-hub>=0.4.0->sentence-transformers) (2.1.1)\n",
      "\u001b[33mWARNING: You are using pip version 22.0.4; however, version 23.2.1 is available.\n",
      "You should consider upgrading via the '/Users/nicolo/.pyenv/versions/3.8.16/bin/python3.8 -m pip install --upgrade pip' command.\u001b[0m\u001b[33m\n",
      "\u001b[0m"
     ]
    }
   ],
   "source": [
    "!pip install -U sentence-transformers"
   ]
  },
  {
   "cell_type": "code",
   "execution_count": 5,
   "id": "ae5f4249",
   "metadata": {},
   "outputs": [],
   "source": [
    "from sentence_transformers import SentenceTransformer\n",
    "\n",
    "model = SentenceTransformer('bert-base-nli-mean-tokens')"
   ]
  },
  {
   "cell_type": "code",
   "execution_count": 6,
   "id": "d952f31c",
   "metadata": {},
   "outputs": [
    {
     "data": {
      "application/vnd.jupyter.widget-view+json": {
       "model_id": "7955616d7a6749cc9ced8e77a8c3487c",
       "version_major": 2,
       "version_minor": 0
      },
      "text/plain": [
       "  0%|          | 0/13545 [00:00<?, ?it/s]"
      ]
     },
     "metadata": {},
     "output_type": "display_data"
    }
   ],
   "source": [
    "df['Embeddings'] = df['name'].progress_apply(lambda x: model.encode(x))"
   ]
  },
  {
   "cell_type": "code",
   "execution_count": 7,
   "id": "9bfa8911",
   "metadata": {},
   "outputs": [],
   "source": [
    "from sklearn.metrics.pairwise import cosine_similarity"
   ]
  },
  {
   "cell_type": "code",
   "execution_count": 8,
   "id": "adf8cd84",
   "metadata": {},
   "outputs": [],
   "source": [
    "def get_top5_embedding_rows(user_input):\n",
    "\n",
    "    # convert user_input to embeddings\n",
    "\n",
    "    vect2 = model.encode(user_input).reshape(1,-1)\n",
    "\n",
    "    # make a copy of original dataframe\n",
    "    df_temp = df.copy()\n",
    "\n",
    "\n",
    "\n",
    "\n",
    "    df_temp['similarity'] = df_temp['Embeddings'].progress_apply(lambda vect1:cosine_similarity(vect1.reshape(1,-1), vect2)[0][0])\n",
    "\n",
    "\n",
    "    top_5 = df_temp.sort_values('similarity',ascending=False).head(10)\n",
    "\n",
    "\n",
    "\n",
    "    return top_5"
   ]
  },
  {
   "cell_type": "code",
   "execution_count": 9,
   "id": "15e7d3d0",
   "metadata": {
    "scrolled": true
   },
   "outputs": [
    {
     "data": {
      "application/vnd.jupyter.widget-view+json": {
       "model_id": "ade79e6879f24c6589ee6ab686bfe973",
       "version_major": 2,
       "version_minor": 0
      },
      "text/plain": [
       "  0%|          | 0/13545 [00:00<?, ?it/s]"
      ]
     },
     "metadata": {},
     "output_type": "display_data"
    },
    {
     "data": {
      "text/html": [
       "<div>\n",
       "<style scoped>\n",
       "    .dataframe tbody tr th:only-of-type {\n",
       "        vertical-align: middle;\n",
       "    }\n",
       "\n",
       "    .dataframe tbody tr th {\n",
       "        vertical-align: top;\n",
       "    }\n",
       "\n",
       "    .dataframe thead th {\n",
       "        text-align: right;\n",
       "    }\n",
       "</style>\n",
       "<table border=\"1\" class=\"dataframe\">\n",
       "  <thead>\n",
       "    <tr style=\"text-align: right;\">\n",
       "      <th></th>\n",
       "      <th>id</th>\n",
       "      <th>name</th>\n",
       "      <th>entype</th>\n",
       "      <th>Embeddings</th>\n",
       "      <th>similarity</th>\n",
       "    </tr>\n",
       "  </thead>\n",
       "  <tbody>\n",
       "    <tr>\n",
       "      <th>8657</th>\n",
       "      <td>7542516020512670170</td>\n",
       "      <td>Free Comedy Movies</td>\n",
       "      <td>menu</td>\n",
       "      <td>[0.17548315, 0.2623958, 0.81223214, 0.15351374...</td>\n",
       "      <td>0.810469</td>\n",
       "    </tr>\n",
       "    <tr>\n",
       "      <th>5343</th>\n",
       "      <td>6439756319852725170</td>\n",
       "      <td>Free Comedy Movies</td>\n",
       "      <td>menu</td>\n",
       "      <td>[0.17548315, 0.2623958, 0.81223214, 0.15351374...</td>\n",
       "      <td>0.810469</td>\n",
       "    </tr>\n",
       "    <tr>\n",
       "      <th>10882</th>\n",
       "      <td>8315844297383158170</td>\n",
       "      <td>Free Scary Movies</td>\n",
       "      <td>menu</td>\n",
       "      <td>[-0.12686095, 0.20544545, 0.6543064, 0.7497650...</td>\n",
       "      <td>0.808080</td>\n",
       "    </tr>\n",
       "    <tr>\n",
       "      <th>2423</th>\n",
       "      <td>5431224808014449170</td>\n",
       "      <td>Free Scary Movies</td>\n",
       "      <td>menu</td>\n",
       "      <td>[-0.12686095, 0.20544545, 0.6543064, 0.7497650...</td>\n",
       "      <td>0.808080</td>\n",
       "    </tr>\n",
       "    <tr>\n",
       "      <th>3552</th>\n",
       "      <td>5812120936160627170</td>\n",
       "      <td>Free Scary Movies</td>\n",
       "      <td>menu</td>\n",
       "      <td>[-0.12686095, 0.20544545, 0.6543064, 0.7497650...</td>\n",
       "      <td>0.808080</td>\n",
       "    </tr>\n",
       "    <tr>\n",
       "      <th>8353</th>\n",
       "      <td>7447048591127655170</td>\n",
       "      <td>Free kids movies</td>\n",
       "      <td>menu</td>\n",
       "      <td>[0.5515677, -0.47705546, 0.9623705, 0.8922556,...</td>\n",
       "      <td>0.785216</td>\n",
       "    </tr>\n",
       "    <tr>\n",
       "      <th>3601</th>\n",
       "      <td>5831846450510580170</td>\n",
       "      <td>Free Kids Movies</td>\n",
       "      <td>menu</td>\n",
       "      <td>[0.5515677, -0.47705546, 0.9623705, 0.8922556,...</td>\n",
       "      <td>0.785216</td>\n",
       "    </tr>\n",
       "    <tr>\n",
       "      <th>3595</th>\n",
       "      <td>5830120021381495170</td>\n",
       "      <td>Free kids movies</td>\n",
       "      <td>menu</td>\n",
       "      <td>[0.5515677, -0.47705546, 0.9623705, 0.8922556,...</td>\n",
       "      <td>0.785216</td>\n",
       "    </tr>\n",
       "    <tr>\n",
       "      <th>10224</th>\n",
       "      <td>8080712748113503170</td>\n",
       "      <td>Free Kids Movies</td>\n",
       "      <td>menu</td>\n",
       "      <td>[0.5515677, -0.47705546, 0.9623705, 0.8922556,...</td>\n",
       "      <td>0.785216</td>\n",
       "    </tr>\n",
       "    <tr>\n",
       "      <th>12375</th>\n",
       "      <td>8812146009735420170</td>\n",
       "      <td>Free Kids Movies</td>\n",
       "      <td>menu</td>\n",
       "      <td>[0.5515677, -0.47705546, 0.9623705, 0.8922556,...</td>\n",
       "      <td>0.785216</td>\n",
       "    </tr>\n",
       "  </tbody>\n",
       "</table>\n",
       "</div>"
      ],
      "text/plain": [
       "                        id                name entype  \\\n",
       "8657   7542516020512670170  Free Comedy Movies   menu   \n",
       "5343   6439756319852725170  Free Comedy Movies   menu   \n",
       "10882  8315844297383158170   Free Scary Movies   menu   \n",
       "2423   5431224808014449170   Free Scary Movies   menu   \n",
       "3552   5812120936160627170   Free Scary Movies   menu   \n",
       "8353   7447048591127655170    Free kids movies   menu   \n",
       "3601   5831846450510580170    Free Kids Movies   menu   \n",
       "3595   5830120021381495170    Free kids movies   menu   \n",
       "10224  8080712748113503170    Free Kids Movies   menu   \n",
       "12375  8812146009735420170    Free Kids Movies   menu   \n",
       "\n",
       "                                              Embeddings  similarity  \n",
       "8657   [0.17548315, 0.2623958, 0.81223214, 0.15351374...    0.810469  \n",
       "5343   [0.17548315, 0.2623958, 0.81223214, 0.15351374...    0.810469  \n",
       "10882  [-0.12686095, 0.20544545, 0.6543064, 0.7497650...    0.808080  \n",
       "2423   [-0.12686095, 0.20544545, 0.6543064, 0.7497650...    0.808080  \n",
       "3552   [-0.12686095, 0.20544545, 0.6543064, 0.7497650...    0.808080  \n",
       "8353   [0.5515677, -0.47705546, 0.9623705, 0.8922556,...    0.785216  \n",
       "3601   [0.5515677, -0.47705546, 0.9623705, 0.8922556,...    0.785216  \n",
       "3595   [0.5515677, -0.47705546, 0.9623705, 0.8922556,...    0.785216  \n",
       "10224  [0.5515677, -0.47705546, 0.9623705, 0.8922556,...    0.785216  \n",
       "12375  [0.5515677, -0.47705546, 0.9623705, 0.8922556,...    0.785216  "
      ]
     },
     "execution_count": 9,
     "metadata": {},
     "output_type": "execute_result"
    }
   ],
   "source": [
    "get_top5_embedding_rows('I want to watch free movies that are funny')"
   ]
  },
  {
   "cell_type": "markdown",
   "id": "5da0e4d7",
   "metadata": {},
   "source": [
    "# Desireble output with keras model"
   ]
  },
  {
   "cell_type": "code",
   "execution_count": null,
   "id": "68b3244a",
   "metadata": {},
   "outputs": [],
   "source": [
    "\n",
    "        \n",
    "class MEModel(Model):\n",
    "    def __init__(self):\n",
    "        super().__init__()\n",
    "        \n",
    "        # Define layers\n",
    "        entity_input = Input(shape=(1,), name='entity_string', dtype=tf.string)\n",
    "        candidate_input = Input(shape=(None,), name='candidate_string', dtype=tf.string)\n",
    "        embedding_layer = UniversalEmbeddingLayer()\n",
    "        dot_layer = DotProductLayer()\n",
    "        \n",
    "        # Construct model\n",
    "        entity_embedding = embedding_layer(entity_input)\n",
    "        candidate_embeddings = embedding_layer(candidate_input)\n",
    "        score = tf.squeeze(dot_layer([entity_embedding, candidate_embeddings]))\n",
    "    \n",
    "        self.model = Model(inputs=[entity_input, candidate_input], outputs=score)\n",
    "        \n",
    "        # Define TensorFlow functions\n",
    "        @tf.function(input_signature=[[tf.TensorSpec(shape=(None, 1), dtype=tf.string),\n",
    "                                       tf.TensorSpec(shape=(None, None), dtype=tf.string)]])\n",
    "        def resolve(input_tensors: List[tf.Tensor]) -> List[tf.Tensor]:\n",
    "            return self.model(input_tensors)\n",
    "        \n",
    "        self.resolve = resolve\n",
    "    \n",
    "    def call(self, inputs, training=None, mask=None):\n",
    "        return self.resolve(inputs)\n",
    "    \n",
    "me_model = MEModel()"
   ]
  },
  {
   "cell_type": "code",
   "execution_count": null,
   "id": "f1a0883e",
   "metadata": {},
   "outputs": [],
   "source": [
    "tf.saved_model.save(me_model, SAVE_PATH, signature={\"resolve\": me_model.resolve})"
   ]
  }
 ],
 "metadata": {
  "kernelspec": {
   "display_name": "Python 3 (ipykernel)",
   "language": "python",
   "name": "python3"
  },
  "language_info": {
   "codemirror_mode": {
    "name": "ipython",
    "version": 3
   },
   "file_extension": ".py",
   "mimetype": "text/x-python",
   "name": "python",
   "nbconvert_exporter": "python",
   "pygments_lexer": "ipython3",
   "version": "3.8.16"
  },
  "toc": {
   "base_numbering": 1,
   "nav_menu": {},
   "number_sections": true,
   "sideBar": true,
   "skip_h1_title": false,
   "title_cell": "Table of Contents",
   "title_sidebar": "Contents",
   "toc_cell": false,
   "toc_position": {},
   "toc_section_display": true,
   "toc_window_display": false
  }
 },
 "nbformat": 4,
 "nbformat_minor": 5
}
