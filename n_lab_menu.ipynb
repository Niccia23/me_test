{
 "cells": [
  {
   "cell_type": "markdown",
   "id": "860db2e3",
   "metadata": {},
   "source": [
    "# My notebook"
   ]
  },
  {
   "cell_type": "code",
   "execution_count": 20,
   "id": "da05e781",
   "metadata": {},
   "outputs": [],
   "source": [
    "import pandas as pd\n",
    "import json\n",
    "from tqdm.notebook import tqdm\n",
    "tqdm.pandas()"
   ]
  },
  {
   "cell_type": "code",
   "execution_count": 21,
   "id": "e627806a",
   "metadata": {},
   "outputs": [],
   "source": [
    "with open(\"msample.json\", \"r\") as f:\n",
    "  items = [json.loads(line) for line in f]\n",
    "  df = pd.DataFrame({\n",
    "      \"id\": [x[\"_source\"][\"id\"] for x in items],\n",
    "      \"name\": [x[\"_source\"][\"name\"] for x in items],\n",
    "      \"entype\": [x[\"_source\"][\"entype\"] for x in items],\n",
    "  })\n",
    "\n",
    "#print(df.head())"
   ]
  },
  {
   "cell_type": "code",
   "execution_count": 22,
   "id": "422a8dfe",
   "metadata": {},
   "outputs": [],
   "source": [
    "#df[\"entype\"].value_counts()"
   ]
  },
  {
   "cell_type": "code",
   "execution_count": 23,
   "id": "05dc4e26",
   "metadata": {},
   "outputs": [
    {
     "name": "stdout",
     "output_type": "stream",
     "text": [
      "huggingface/tokenizers: The current process just got forked, after parallelism has already been used. Disabling parallelism to avoid deadlocks...\n",
      "To disable this warning, you can either:\n",
      "\t- Avoid using `tokenizers` before the fork if possible\n",
      "\t- Explicitly set the environment variable TOKENIZERS_PARALLELISM=(true | false)\n",
      "Requirement already satisfied: sentence-transformers in /Users/nicolo/.pyenv/versions/3.8.16/lib/python3.8/site-packages (2.2.2)\n",
      "Requirement already satisfied: transformers<5.0.0,>=4.6.0 in /Users/nicolo/.pyenv/versions/3.8.16/lib/python3.8/site-packages (from sentence-transformers) (4.28.0.dev0)\n",
      "Requirement already satisfied: tqdm in /Users/nicolo/.pyenv/versions/3.8.16/lib/python3.8/site-packages (from sentence-transformers) (4.64.1)\n",
      "Requirement already satisfied: torch>=1.6.0 in /Users/nicolo/.pyenv/versions/3.8.16/lib/python3.8/site-packages (from sentence-transformers) (1.13.1)\n",
      "Requirement already satisfied: torchvision in /Users/nicolo/.pyenv/versions/3.8.16/lib/python3.8/site-packages (from sentence-transformers) (0.14.1)\n",
      "Requirement already satisfied: numpy in /Users/nicolo/.pyenv/versions/3.8.16/lib/python3.8/site-packages (from sentence-transformers) (1.24.2)\n",
      "Requirement already satisfied: scikit-learn in /Users/nicolo/.pyenv/versions/3.8.16/lib/python3.8/site-packages (from sentence-transformers) (1.2.1)\n",
      "Requirement already satisfied: scipy in /Users/nicolo/.pyenv/versions/3.8.16/lib/python3.8/site-packages (from sentence-transformers) (1.10.0)\n",
      "Requirement already satisfied: nltk in /Users/nicolo/.pyenv/versions/3.8.16/lib/python3.8/site-packages (from sentence-transformers) (3.8.1)\n",
      "Requirement already satisfied: sentencepiece in /Users/nicolo/.pyenv/versions/3.8.16/lib/python3.8/site-packages (from sentence-transformers) (0.1.97)\n",
      "Requirement already satisfied: huggingface-hub>=0.4.0 in /Users/nicolo/.pyenv/versions/3.8.16/lib/python3.8/site-packages (from sentence-transformers) (0.12.0)\n",
      "Requirement already satisfied: filelock in /Users/nicolo/.pyenv/versions/3.8.16/lib/python3.8/site-packages (from huggingface-hub>=0.4.0->sentence-transformers) (3.9.0)\n",
      "Requirement already satisfied: requests in /Users/nicolo/.pyenv/versions/3.8.16/lib/python3.8/site-packages (from huggingface-hub>=0.4.0->sentence-transformers) (2.28.2)\n",
      "Requirement already satisfied: pyyaml>=5.1 in /Users/nicolo/.pyenv/versions/3.8.16/lib/python3.8/site-packages (from huggingface-hub>=0.4.0->sentence-transformers) (6.0)\n",
      "Requirement already satisfied: packaging>=20.9 in /Users/nicolo/.pyenv/versions/3.8.16/lib/python3.8/site-packages (from huggingface-hub>=0.4.0->sentence-transformers) (23.0)\n",
      "Requirement already satisfied: typing-extensions>=3.7.4.3 in /Users/nicolo/.pyenv/versions/3.8.16/lib/python3.8/site-packages (from huggingface-hub>=0.4.0->sentence-transformers) (4.4.0)\n",
      "Requirement already satisfied: tokenizers!=0.11.3,<0.14,>=0.11.1 in /Users/nicolo/.pyenv/versions/3.8.16/lib/python3.8/site-packages (from transformers<5.0.0,>=4.6.0->sentence-transformers) (0.13.2)\n",
      "Requirement already satisfied: regex!=2019.12.17 in /Users/nicolo/.pyenv/versions/3.8.16/lib/python3.8/site-packages (from transformers<5.0.0,>=4.6.0->sentence-transformers) (2022.10.31)\n",
      "Requirement already satisfied: joblib in /Users/nicolo/.pyenv/versions/3.8.16/lib/python3.8/site-packages (from nltk->sentence-transformers) (1.2.0)\n",
      "Requirement already satisfied: click in /Users/nicolo/.pyenv/versions/3.8.16/lib/python3.8/site-packages (from nltk->sentence-transformers) (8.1.3)\n",
      "Requirement already satisfied: threadpoolctl>=2.0.0 in /Users/nicolo/.pyenv/versions/3.8.16/lib/python3.8/site-packages (from scikit-learn->sentence-transformers) (3.1.0)\n",
      "Requirement already satisfied: pillow!=8.3.*,>=5.3.0 in /Users/nicolo/.pyenv/versions/3.8.16/lib/python3.8/site-packages (from torchvision->sentence-transformers) (9.4.0)\n",
      "Requirement already satisfied: certifi>=2017.4.17 in /Users/nicolo/.pyenv/versions/3.8.16/lib/python3.8/site-packages (from requests->huggingface-hub>=0.4.0->sentence-transformers) (2022.12.7)\n",
      "Requirement already satisfied: urllib3<1.27,>=1.21.1 in /Users/nicolo/.pyenv/versions/3.8.16/lib/python3.8/site-packages (from requests->huggingface-hub>=0.4.0->sentence-transformers) (1.26.14)\n",
      "Requirement already satisfied: charset-normalizer<4,>=2 in /Users/nicolo/.pyenv/versions/3.8.16/lib/python3.8/site-packages (from requests->huggingface-hub>=0.4.0->sentence-transformers) (2.1.1)\n",
      "Requirement already satisfied: idna<4,>=2.5 in /Users/nicolo/.pyenv/versions/3.8.16/lib/python3.8/site-packages (from requests->huggingface-hub>=0.4.0->sentence-transformers) (3.4)\n",
      "\u001b[33mWARNING: You are using pip version 22.0.4; however, version 23.2.1 is available.\n",
      "You should consider upgrading via the '/Users/nicolo/.pyenv/versions/3.8.16/bin/python3.8 -m pip install --upgrade pip' command.\u001b[0m\u001b[33m\n",
      "\u001b[0m"
     ]
    }
   ],
   "source": [
    "!pip install -U sentence-transformers"
   ]
  },
  {
   "cell_type": "code",
   "execution_count": 5,
   "id": "12850766",
   "metadata": {},
   "outputs": [],
   "source": [
    "from sentence_transformers import SentenceTransformer\n",
    "\n",
    "model = SentenceTransformer('bert-base-nli-mean-tokens')"
   ]
  },
  {
   "cell_type": "code",
   "execution_count": 6,
   "id": "49884417",
   "metadata": {},
   "outputs": [
    {
     "data": {
      "application/vnd.jupyter.widget-view+json": {
       "model_id": "7955616d7a6749cc9ced8e77a8c3487c",
       "version_major": 2,
       "version_minor": 0
      },
      "text/plain": [
       "  0%|          | 0/13545 [00:00<?, ?it/s]"
      ]
     },
     "metadata": {},
     "output_type": "display_data"
    }
   ],
   "source": [
    "df['Embeddings'] = df['name'].progress_apply(lambda x: model.encode(x))"
   ]
  },
  {
   "cell_type": "code",
   "execution_count": 7,
   "id": "8133fe85",
   "metadata": {},
   "outputs": [],
   "source": [
    "from sklearn.metrics.pairwise import cosine_similarity"
   ]
  },
  {
   "cell_type": "code",
   "execution_count": 8,
   "id": "23ef4c67",
   "metadata": {},
   "outputs": [],
   "source": [
    "def get_top5_embedding_rows(user_input):\n",
    "\n",
    "    # convert user_input to embeddings\n",
    "\n",
    "    vect2 = model.encode(user_input).reshape(1,-1)\n",
    "\n",
    "    # make a copy of original dataframe\n",
    "    df_temp = df.copy()\n",
    "\n",
    "\n",
    "\n",
    "\n",
    "    df_temp['similarity'] = df_temp['Embeddings'].progress_apply(lambda vect1:cosine_similarity(vect1.reshape(1,-1), vect2)[0][0])\n",
    "\n",
    "\n",
    "    top_5 = df_temp.sort_values('similarity',ascending=False).head(10)\n",
    "\n",
    "\n",
    "\n",
    "    return top_5"
   ]
  },
  {
   "cell_type": "code",
   "execution_count": 24,
   "id": "f64532b6",
   "metadata": {
    "scrolled": true
   },
   "outputs": [],
   "source": [
    "#get_top5_embedding_rows('I want to watch free movies that are funny')"
   ]
  },
  {
   "cell_type": "markdown",
   "id": "99070b7d",
   "metadata": {},
   "source": [
    "# Desireble output with keras model"
   ]
  },
  {
   "cell_type": "code",
   "execution_count": null,
   "id": "3a14f052",
   "metadata": {},
   "outputs": [],
   "source": [
    "\n",
    "        \n",
    "class MEModel(Model):\n",
    "    def __init__(self):\n",
    "        super().__init__()\n",
    "        \n",
    "        # Define layers\n",
    "        entity_input = Input(shape=(1,), name='entity_string', dtype=tf.string)\n",
    "        candidate_input = Input(shape=(None,), name='candidate_string', dtype=tf.string)\n",
    "        embedding_layer = UniversalEmbeddingLayer()\n",
    "        dot_layer = DotProductLayer()\n",
    "        \n",
    "        # Construct model\n",
    "        entity_embedding = embedding_layer(entity_input)\n",
    "        candidate_embeddings = embedding_layer(candidate_input)\n",
    "        score = tf.squeeze(dot_layer([entity_embedding, candidate_embeddings]))\n",
    "    \n",
    "        self.model = Model(inputs=[entity_input, candidate_input], outputs=score)\n",
    "        \n",
    "        # Define TensorFlow functions\n",
    "        @tf.function(input_signature=[[tf.TensorSpec(shape=(None, 1), dtype=tf.string),\n",
    "                                       tf.TensorSpec(shape=(None, None), dtype=tf.string)]])\n",
    "        def resolve(input_tensors: List[tf.Tensor]) -> List[tf.Tensor]:\n",
    "            return self.model(input_tensors)\n",
    "        \n",
    "        self.resolve = resolve\n",
    "    \n",
    "    def call(self, inputs, training=None, mask=None):\n",
    "        return self.resolve(inputs)\n",
    "    \n",
    "me_model = MEModel()"
   ]
  },
  {
   "cell_type": "code",
   "execution_count": null,
   "id": "308c1546",
   "metadata": {},
   "outputs": [],
   "source": [
    "tf.saved_model.save(me_model, SAVE_PATH, signature={\"resolve\": me_model.resolve})"
   ]
  }
 ],
 "metadata": {
  "kernelspec": {
   "display_name": "Python 3 (ipykernel)",
   "language": "python",
   "name": "python3"
  },
  "language_info": {
   "codemirror_mode": {
    "name": "ipython",
    "version": 3
   },
   "file_extension": ".py",
   "mimetype": "text/x-python",
   "name": "python",
   "nbconvert_exporter": "python",
   "pygments_lexer": "ipython3",
   "version": "3.8.16"
  },
  "toc": {
   "base_numbering": 1,
   "nav_menu": {},
   "number_sections": true,
   "sideBar": true,
   "skip_h1_title": false,
   "title_cell": "Table of Contents",
   "title_sidebar": "Contents",
   "toc_cell": false,
   "toc_position": {},
   "toc_section_display": true,
   "toc_window_display": false
  }
 },
 "nbformat": 4,
 "nbformat_minor": 5
}
